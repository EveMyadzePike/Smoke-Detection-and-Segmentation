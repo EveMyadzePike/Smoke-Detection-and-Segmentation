{
 "cells": [
  {
   "cell_type": "code",
   "execution_count": null,
   "metadata": {},
   "outputs": [],
   "source": [
    "import torch\n",
    "from torchvision.models import resnet50\n",
    "\n",
    "device = torch.device('cuda:0' if torch.cuda.is_available() else 'cpu')\n",
    "\n",
    "model = resnet50(pretrained=True)\n",
    "\n",
    "# modify first and final layer\n",
    "model.conv1 = torch.nn.Conv2d(12, 64, kernel_size=(3, 3),\n",
    "                              stride=(2, 2), padding=(3, 3), bias=False)\n",
    "model.fc = torch.nn.Linear(4*512, 1)\n",
    "\n",
    "model.to(device)"
   ]
  }
 ],
 "metadata": {
  "language_info": {
   "name": "python"
  },
  "orig_nbformat": 4
 },
 "nbformat": 4,
 "nbformat_minor": 2
}
